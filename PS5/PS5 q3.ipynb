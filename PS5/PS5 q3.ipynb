{
 "cells": [
  {
   "cell_type": "markdown",
   "id": "radical-permit",
   "metadata": {},
   "source": [
    "Import packages"
   ]
  },
  {
   "cell_type": "code",
   "execution_count": 1,
   "id": "incredible-virginia",
   "metadata": {},
   "outputs": [],
   "source": [
    "import numpy as np\n",
    "from scipy.integrate import odeint\n",
    "import matplotlib.pyplot as plt"
   ]
  },
  {
   "cell_type": "markdown",
   "id": "premium-brown",
   "metadata": {},
   "source": [
    "Define parameters with nM concentrations"
   ]
  },
  {
   "cell_type": "code",
   "execution_count": 2,
   "id": "missing-major",
   "metadata": {},
   "outputs": [],
   "source": [
    "VRmax = 20 \n",
    "\n",
    "def a1m(ligand):\n",
    "    return (ligand / (1 + ligand))\n",
    "\n",
    "def a1p(ligand):\n",
    "    return (1 / (1 + ligand))\n",
    "\n",
    "abp = .1\n",
    "dbp = 0.01\n",
    "kbp = 1\n",
    "\n",
    "ab = 1\n",
    "db = 1\n",
    "kb = 0\n",
    "\n",
    "def beta1(ligand):\n",
    "    return (2.5*ligand / (1+ligand))\n",
    "k1p = 1\n",
    "k1m = 1"
   ]
  },
  {
   "cell_type": "markdown",
   "id": "polish-sunrise",
   "metadata": {},
   "source": [
    "Define the set of coupled ODEs to solve"
   ]
  },
  {
   "cell_type": "code",
   "execution_count": 3,
   "id": "falling-namibia",
   "metadata": {},
   "outputs": [],
   "source": [
    "def odes(x,t):\n",
    "    \n",
    "    E0 = x[0]\n",
    "    E1 = x[1]\n",
    "    E1Star = x[2]\n",
    "    B = x[3]\n",
    "    Bp = x[4]\n",
    "    E1StarB = x[5]\n",
    "    E1StarBp = x[6]\n",
    "    \n",
    "    E0 = -E1-E1Star-E1StarB-E1StarBp+10000\n",
    "    B = -Bp-E1StarB-E1StarBp+2000\n",
    "    \n",
    "    dE0dt = -VRmax + E1StarBp*kbp + E1StarB*kb\n",
    "    dE1dt = VRmax + E1Star*a1m(ligand) - E1*a1p(ligand) + E1StarBp*beta1(ligand) + E1StarB*beta1(ligand)\n",
    "    dE1Stardt = E1*a1p(ligand) - E1Star*a1m(ligand) - E1Star*Bp*abp + E1StarBp*dbp - E1Star*B*ab + E1StarB*db\n",
    "    dBdt = -E1Star*B*ab + E1StarB*db + E1StarB*kb + E1StarB*beta1(ligand) - B*k1p*E1Star + Bp*k1m\n",
    "    dBpdt = -E1Star*Bp*abp + E1StarBp*dbp + E1StarBp*kbp + E1StarBp*beta1(ligand) + B*k1p*E1Star - Bp*k1m\n",
    "    dE1StarBdt = E1Star*B*ab - E1StarB*db - E1StarB*kb - E1StarB*beta1(ligand)\n",
    "    dE1StarBpdt = E1Star*Bp*abp - E1StarBp*dbp - E1StarBp*kbp - E1StarBp*beta1(ligand) \n",
    "    \n",
    "    return [dE0dt, dE1dt, dE1Stardt, dBdt, dBpdt, dE1StarBdt, dE1StarBpdt]"
   ]
  },
  {
   "cell_type": "markdown",
   "id": "pediatric-giant",
   "metadata": {},
   "source": [
    "solve steady state"
   ]
  },
  {
   "cell_type": "code",
   "execution_count": 4,
   "id": "exact-montgomery",
   "metadata": {},
   "outputs": [],
   "source": [
    "import sympy\n",
    "from sympy.solvers import solve\n",
    "from sympy import Symbol"
   ]
  },
  {
   "cell_type": "code",
   "execution_count": 5,
   "id": "valued-collectible",
   "metadata": {},
   "outputs": [],
   "source": [
    "E0, E1, E1Star, B, Bp, E1StarB, E1StarBp,ligand = sympy.symbols('E0, E1, E1Star, B, Bp, E1StarB, E1StarBp,ligand')\n",
    "eq1 = sympy.Eq(-VRmax + E1StarBp*kbp + E1StarB*kb,0)\n",
    "eq2 = sympy.Eq(VRmax + E1Star*a1m(ligand) - E1*a1p(ligand) + E1StarBp*beta1(ligand) + E1StarB*beta1(ligand),0)\n",
    "eq3 = sympy.Eq(E1*a1p(ligand) - E1Star*a1m(ligand) - E1Star*Bp*abp + E1StarBp*dbp - E1Star*B*ab + E1StarB*db,0)\n",
    "eq4 = sympy.Eq(-E1Star*B*ab + E1StarB*db + E1StarB*kb + E1StarB*beta1(ligand) - B*k1p*E1Star + Bp*k1m,0)\n",
    "eq5 = sympy.Eq(-E1Star*Bp*abp + E1StarBp*dbp + E1StarBp*kbp + E1StarBp*beta1(ligand) + B*k1p*E1Star - Bp*k1m,0)\n",
    "eq6 = sympy.Eq(E1Star*B*ab - E1StarB*db - E1StarB*kb - E1StarB*beta1(ligand),0)\n",
    "eq7 = sympy.Eq(E1Star*Bp*abp - E1StarBp*dbp - E1StarBp*kbp - E1StarBp*beta1(ligand),0)\n",
    "\n",
    "#add additional contstraints\n",
    "eq8 = sympy.Eq(E0+E1+E1Star+E1StarB+E1StarBp-10000,0)\n",
    "eq9 = sympy.Eq(B+Bp+E1StarB+E1StarBp-2000,0)\n",
    "\n",
    "list = sympy.solve([eq1,eq2,eq3,eq4,eq5,eq6,eq7,eq8,eq9],(E0, E1, E1Star, B, Bp, E1StarB, E1StarBp))"
   ]
  },
  {
   "cell_type": "code",
   "execution_count": 6,
   "id": "alert-testament",
   "metadata": {},
   "outputs": [],
   "source": [
    "t = list[0]"
   ]
  },
  {
   "cell_type": "code",
   "execution_count": 7,
   "id": "incoming-bidder",
   "metadata": {},
   "outputs": [],
   "source": [
    "s=sympy.lambdify(ligand,t)"
   ]
  },
  {
   "cell_type": "code",
   "execution_count": 37,
   "id": "apart-syndication",
   "metadata": {},
   "outputs": [
    {
     "data": {
      "text/plain": [
       "(9497.66208149833,\n",
       " 20.0,\n",
       " 0.43732353281255304,\n",
       " 1056.19881006229,\n",
       " 461.900594968855,\n",
       " 461.9005949688558,\n",
       " 20.0)"
      ]
     },
     "execution_count": 37,
     "metadata": {},
     "output_type": "execute_result"
    }
   ],
   "source": [
    "s(0)"
   ]
  },
  {
   "cell_type": "markdown",
   "id": "computational-guatemala",
   "metadata": {},
   "source": [
    "Choose initial conditions to be the steady state values at ligand = 0, then plot the active receptor concentration over the steady state active receptor concentration for the chosen ligand concentration"
   ]
  },
  {
   "cell_type": "code",
   "execution_count": 54,
   "id": "bottom-funds",
   "metadata": {},
   "outputs": [],
   "source": [
    "x0 = s(0)\n",
    "ligand = 0.01\n",
    "t = np.linspace(0,100,100000)\n",
    "sol = odeint(odes,x0,t)"
   ]
  },
  {
   "cell_type": "code",
   "execution_count": 55,
   "id": "optical-saver",
   "metadata": {},
   "outputs": [
    {
     "data": {
      "text/plain": [
       "Text(0, 0.5, 'Active receptor E1Star')"
      ]
     },
     "execution_count": 55,
     "metadata": {},
     "output_type": "execute_result"
    },
    {
     "data": {
      "image/png": "[encoded data removed]",
      "text/plain": [
       "<Figure size 432x288 with 1 Axes>"
      ]
     },
     "metadata": {
      "needs_background": "light"
     },
     "output_type": "display_data"
    }
   ],
   "source": [
    "E1Starnorm = sol[:,2]/s(0.01)[2]\n",
    "plt.plot(t,E1Starnorm)\n",
    "plt.xlabel('t')\n",
    "plt.ylabel('Active receptor E1Star')"
   ]
  },
  {
   "cell_type": "markdown",
   "id": "opposed-vocabulary",
   "metadata": {},
   "source": [
    "Plot the gain curve in the I total >> A steady state limit"
   ]
  },
  {
   "cell_type": "code",
   "execution_count": 16,
   "id": "willing-control",
   "metadata": {},
   "outputs": [],
   "source": [
    "def g(ligand):\n",
    "    return (beta1(ligand)/a1m(ligand))*2000/s(ligand)[2]"
   ]
  },
  {
   "cell_type": "code",
   "execution_count": 22,
   "id": "experimental-senior",
   "metadata": {},
   "outputs": [
    {
     "data": {
      "text/plain": [
       "Text(0, 0.5, 'gain')"
      ]
     },
     "execution_count": 22,
     "metadata": {},
     "output_type": "execute_result"
    },
    {
     "data": {
      "image/png": "[encoded data removed]",
      "text/plain": [
       "<Figure size 432x288 with 1 Axes>"
      ]
     },
     "metadata": {
      "needs_background": "light"
     },
     "output_type": "display_data"
    }
   ],
   "source": [
    "x = np.linspace(0.1,10,100000)\n",
    "plt.plot(x,g(x))\n",
    "plt.xlabel('ligand')\n",
    "plt.ylabel('gain')"
   ]
  },
  {
   "cell_type": "markdown",
   "id": "short-sharp",
   "metadata": {},
   "source": [
    "Plot response curves for additional ligand concentrations"
   ]
  },
  {
   "cell_type": "code",
   "execution_count": 56,
   "id": "beneficial-medicine",
   "metadata": {},
   "outputs": [
    {
     "data": {
      "text/plain": [
       "Text(0, 0.5, 'Active receptor E1Star')"
      ]
     },
     "execution_count": 56,
     "metadata": {},
     "output_type": "execute_result"
    },
    {
     "data": {
      "image/png": "[encoded data removed]",
      "text/plain": [
       "<Figure size 432x288 with 1 Axes>"
      ]
     },
     "metadata": {
      "needs_background": "light"
     },
     "output_type": "display_data"
    }
   ],
   "source": [
    "ligand = 0.1\n",
    "x0 = s(0)\n",
    "t = np.linspace(0,50,100000)\n",
    "sol = odeint(odes,x0,t)\n",
    "E1Starnorm = sol[:,2]/s(0.1)[2]\n",
    "plt.plot(t,E1Starnorm)\n",
    "plt.xlabel('t')\n",
    "plt.ylabel('Active receptor E1Star')"
   ]
  },
  {
   "cell_type": "code",
   "execution_count": 57,
   "id": "frozen-creature",
   "metadata": {},
   "outputs": [
    {
     "data": {
      "text/plain": [
       "Text(0, 0.5, 'Active receptor E1Star')"
      ]
     },
     "execution_count": 57,
     "metadata": {},
     "output_type": "execute_result"
    },
    {
     "data": {
      "image/png": "[encoded data removed]",
      "text/plain": [
       "<Figure size 432x288 with 1 Axes>"
      ]
     },
     "metadata": {
      "needs_background": "light"
     },
     "output_type": "display_data"
    }
   ],
   "source": [
    "ligand = 1\n",
    "x0 = s(0)\n",
    "t = np.linspace(0,200,100000)\n",
    "sol = odeint(odes,x0,t)\n",
    "E1Starnorm = sol[:,2]/s(1)[2]\n",
    "plt.plot(t,E1Starnorm)\n",
    "plt.xlabel('t')\n",
    "plt.ylabel('Active receptor E1Star')"
   ]
  },
  {
   "cell_type": "code",
   "execution_count": 58,
   "id": "published-ivory",
   "metadata": {},
   "outputs": [
    {
     "data": {
      "text/plain": [
       "Text(0, 0.5, 'Active receptor E1Star')"
      ]
     },
     "execution_count": 58,
     "metadata": {},
     "output_type": "execute_result"
    },
    {
     "data": {
      "image/png": "[encoded data removed]",
      "text/plain": [
       "<Figure size 432x288 with 1 Axes>"
      ]
     },
     "metadata": {
      "needs_background": "light"
     },
     "output_type": "display_data"
    }
   ],
   "source": [
    "ligand = 10\n",
    "x0 = s(0)\n",
    "t = np.linspace(0,1500,100000)\n",
    "sol = odeint(odes,x0,t)\n",
    "E1Starnorm = sol[:,2]/s(10)[2]\n",
    "plt.plot(t,E1Starnorm)\n",
    "plt.xlabel('t')\n",
    "plt.ylabel('Active receptor E1Star')"
   ]
  },
  {
   "cell_type": "markdown",
   "id": "small-donna",
   "metadata": {},
   "source": [
    "The two state model responds more strongly to higher ligand concentrations, and receptor activity decreases and recovers over a timescale that increases with ligand concentration. Unlike the three state model, receptor acivity does not overshoot above the steady state when recovering."
   ]
  }
 ],
 "metadata": {
  "kernelspec": {
   "display_name": "Python 3",
   "language": "python",
   "name": "python3"
  },
  "language_info": {
   "codemirror_mode": {
    "name": "ipython",
    "version": 3
   },
   "file_extension": ".py",
   "mimetype": "text/x-python",
   "name": "python",
   "nbconvert_exporter": "python",
   "pygments_lexer": "ipython3",
   "version": "3.8.5"
  }
 },
 "nbformat": 4,
 "nbformat_minor": 5
}
